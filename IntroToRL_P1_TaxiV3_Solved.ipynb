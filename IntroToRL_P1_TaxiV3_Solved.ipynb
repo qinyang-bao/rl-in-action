{
  "nbformat": 4,
  "nbformat_minor": 0,
  "metadata": {
    "kernelspec": {
      "display_name": "Python 3",
      "language": "python",
      "name": "python3"
    },
    "language_info": {
      "codemirror_mode": {
        "name": "ipython",
        "version": 3
      },
      "file_extension": ".py",
      "mimetype": "text/x-python",
      "name": "python",
      "nbconvert_exporter": "python",
      "pygments_lexer": "ipython3",
      "version": "3.6.8"
    },
    "colab": {
      "name": "Copy of P1.ipynb",
      "provenance": [],
      "collapsed_sections": [],
      "toc_visible": true,
      "include_colab_link": true
    },
    "widgets": {
      "application/vnd.jupyter.widget-state+json": {
        "679bcfd7dd574c82b5d78c2fd52239b9": {
          "model_module": "@jupyter-widgets/controls",
          "model_name": "HBoxModel",
          "state": {
            "_view_name": "HBoxView",
            "_dom_classes": [],
            "_model_name": "HBoxModel",
            "_view_module": "@jupyter-widgets/controls",
            "_model_module_version": "1.5.0",
            "_view_count": null,
            "_view_module_version": "1.5.0",
            "box_style": "",
            "layout": "IPY_MODEL_f6e737e844ba432a8701acb067668b1c",
            "_model_module": "@jupyter-widgets/controls",
            "children": [
              "IPY_MODEL_e42074b3b8ab4d28b3c71eb0a59eed3b",
              "IPY_MODEL_9dff00846a9943e6904f8eb03421536f"
            ]
          }
        },
        "f6e737e844ba432a8701acb067668b1c": {
          "model_module": "@jupyter-widgets/base",
          "model_name": "LayoutModel",
          "state": {
            "_view_name": "LayoutView",
            "grid_template_rows": null,
            "right": null,
            "justify_content": null,
            "_view_module": "@jupyter-widgets/base",
            "overflow": null,
            "_model_module_version": "1.2.0",
            "_view_count": null,
            "flex_flow": null,
            "width": null,
            "min_width": null,
            "border": null,
            "align_items": null,
            "bottom": null,
            "_model_module": "@jupyter-widgets/base",
            "top": null,
            "grid_column": null,
            "overflow_y": null,
            "overflow_x": null,
            "grid_auto_flow": null,
            "grid_area": null,
            "grid_template_columns": null,
            "flex": null,
            "_model_name": "LayoutModel",
            "justify_items": null,
            "grid_row": null,
            "max_height": null,
            "align_content": null,
            "visibility": null,
            "align_self": null,
            "height": null,
            "min_height": null,
            "padding": null,
            "grid_auto_rows": null,
            "grid_gap": null,
            "max_width": null,
            "order": null,
            "_view_module_version": "1.2.0",
            "grid_template_areas": null,
            "object_position": null,
            "object_fit": null,
            "grid_auto_columns": null,
            "margin": null,
            "display": null,
            "left": null
          }
        },
        "e42074b3b8ab4d28b3c71eb0a59eed3b": {
          "model_module": "@jupyter-widgets/controls",
          "model_name": "FloatProgressModel",
          "state": {
            "_view_name": "ProgressView",
            "style": "IPY_MODEL_db371a48244748ae9a0396e442b5802a",
            "_dom_classes": [],
            "description": "100%",
            "_model_name": "FloatProgressModel",
            "bar_style": "success",
            "max": 5000,
            "_view_module": "@jupyter-widgets/controls",
            "_model_module_version": "1.5.0",
            "value": 5000,
            "_view_count": null,
            "_view_module_version": "1.5.0",
            "orientation": "horizontal",
            "min": 0,
            "description_tooltip": null,
            "_model_module": "@jupyter-widgets/controls",
            "layout": "IPY_MODEL_26e60fa8697b4aa6898faed8106a9fe6"
          }
        },
        "9dff00846a9943e6904f8eb03421536f": {
          "model_module": "@jupyter-widgets/controls",
          "model_name": "HTMLModel",
          "state": {
            "_view_name": "HTMLView",
            "style": "IPY_MODEL_7101f308534f4756a010eb63e08ef449",
            "_dom_classes": [],
            "description": "",
            "_model_name": "HTMLModel",
            "placeholder": "​",
            "_view_module": "@jupyter-widgets/controls",
            "_model_module_version": "1.5.0",
            "value": " 5000/5000 [08:26&lt;00:00,  9.87it/s]",
            "_view_count": null,
            "_view_module_version": "1.5.0",
            "description_tooltip": null,
            "_model_module": "@jupyter-widgets/controls",
            "layout": "IPY_MODEL_c2f091aff24b447a9066a14d445039d7"
          }
        },
        "db371a48244748ae9a0396e442b5802a": {
          "model_module": "@jupyter-widgets/controls",
          "model_name": "ProgressStyleModel",
          "state": {
            "_view_name": "StyleView",
            "_model_name": "ProgressStyleModel",
            "description_width": "initial",
            "_view_module": "@jupyter-widgets/base",
            "_model_module_version": "1.5.0",
            "_view_count": null,
            "_view_module_version": "1.2.0",
            "bar_color": null,
            "_model_module": "@jupyter-widgets/controls"
          }
        },
        "26e60fa8697b4aa6898faed8106a9fe6": {
          "model_module": "@jupyter-widgets/base",
          "model_name": "LayoutModel",
          "state": {
            "_view_name": "LayoutView",
            "grid_template_rows": null,
            "right": null,
            "justify_content": null,
            "_view_module": "@jupyter-widgets/base",
            "overflow": null,
            "_model_module_version": "1.2.0",
            "_view_count": null,
            "flex_flow": null,
            "width": null,
            "min_width": null,
            "border": null,
            "align_items": null,
            "bottom": null,
            "_model_module": "@jupyter-widgets/base",
            "top": null,
            "grid_column": null,
            "overflow_y": null,
            "overflow_x": null,
            "grid_auto_flow": null,
            "grid_area": null,
            "grid_template_columns": null,
            "flex": null,
            "_model_name": "LayoutModel",
            "justify_items": null,
            "grid_row": null,
            "max_height": null,
            "align_content": null,
            "visibility": null,
            "align_self": null,
            "height": null,
            "min_height": null,
            "padding": null,
            "grid_auto_rows": null,
            "grid_gap": null,
            "max_width": null,
            "order": null,
            "_view_module_version": "1.2.0",
            "grid_template_areas": null,
            "object_position": null,
            "object_fit": null,
            "grid_auto_columns": null,
            "margin": null,
            "display": null,
            "left": null
          }
        },
        "7101f308534f4756a010eb63e08ef449": {
          "model_module": "@jupyter-widgets/controls",
          "model_name": "DescriptionStyleModel",
          "state": {
            "_view_name": "StyleView",
            "_model_name": "DescriptionStyleModel",
            "description_width": "",
            "_view_module": "@jupyter-widgets/base",
            "_model_module_version": "1.5.0",
            "_view_count": null,
            "_view_module_version": "1.2.0",
            "_model_module": "@jupyter-widgets/controls"
          }
        },
        "c2f091aff24b447a9066a14d445039d7": {
          "model_module": "@jupyter-widgets/base",
          "model_name": "LayoutModel",
          "state": {
            "_view_name": "LayoutView",
            "grid_template_rows": null,
            "right": null,
            "justify_content": null,
            "_view_module": "@jupyter-widgets/base",
            "overflow": null,
            "_model_module_version": "1.2.0",
            "_view_count": null,
            "flex_flow": null,
            "width": null,
            "min_width": null,
            "border": null,
            "align_items": null,
            "bottom": null,
            "_model_module": "@jupyter-widgets/base",
            "top": null,
            "grid_column": null,
            "overflow_y": null,
            "overflow_x": null,
            "grid_auto_flow": null,
            "grid_area": null,
            "grid_template_columns": null,
            "flex": null,
            "_model_name": "LayoutModel",
            "justify_items": null,
            "grid_row": null,
            "max_height": null,
            "align_content": null,
            "visibility": null,
            "align_self": null,
            "height": null,
            "min_height": null,
            "padding": null,
            "grid_auto_rows": null,
            "grid_gap": null,
            "max_width": null,
            "order": null,
            "_view_module_version": "1.2.0",
            "grid_template_areas": null,
            "object_position": null,
            "object_fit": null,
            "grid_auto_columns": null,
            "margin": null,
            "display": null,
            "left": null
          }
        },
        "f8737220edc24847bed78140e41f9279": {
          "model_module": "@jupyter-widgets/controls",
          "model_name": "HBoxModel",
          "state": {
            "_view_name": "HBoxView",
            "_dom_classes": [],
            "_model_name": "HBoxModel",
            "_view_module": "@jupyter-widgets/controls",
            "_model_module_version": "1.5.0",
            "_view_count": null,
            "_view_module_version": "1.5.0",
            "box_style": "",
            "layout": "IPY_MODEL_32fada62c3c44c12893c0d503a5de76d",
            "_model_module": "@jupyter-widgets/controls",
            "children": [
              "IPY_MODEL_657c86fc879f46c387ef6b4759618cdf",
              "IPY_MODEL_05d05f3f1cb34c1fb74e008c0cffa37c"
            ]
          }
        },
        "32fada62c3c44c12893c0d503a5de76d": {
          "model_module": "@jupyter-widgets/base",
          "model_name": "LayoutModel",
          "state": {
            "_view_name": "LayoutView",
            "grid_template_rows": null,
            "right": null,
            "justify_content": null,
            "_view_module": "@jupyter-widgets/base",
            "overflow": null,
            "_model_module_version": "1.2.0",
            "_view_count": null,
            "flex_flow": null,
            "width": null,
            "min_width": null,
            "border": null,
            "align_items": null,
            "bottom": null,
            "_model_module": "@jupyter-widgets/base",
            "top": null,
            "grid_column": null,
            "overflow_y": null,
            "overflow_x": null,
            "grid_auto_flow": null,
            "grid_area": null,
            "grid_template_columns": null,
            "flex": null,
            "_model_name": "LayoutModel",
            "justify_items": null,
            "grid_row": null,
            "max_height": null,
            "align_content": null,
            "visibility": null,
            "align_self": null,
            "height": null,
            "min_height": null,
            "padding": null,
            "grid_auto_rows": null,
            "grid_gap": null,
            "max_width": null,
            "order": null,
            "_view_module_version": "1.2.0",
            "grid_template_areas": null,
            "object_position": null,
            "object_fit": null,
            "grid_auto_columns": null,
            "margin": null,
            "display": null,
            "left": null
          }
        },
        "657c86fc879f46c387ef6b4759618cdf": {
          "model_module": "@jupyter-widgets/controls",
          "model_name": "FloatProgressModel",
          "state": {
            "_view_name": "ProgressView",
            "style": "IPY_MODEL_adbc7e7fbfe246ffa5486fc1ed063f59",
            "_dom_classes": [],
            "description": "100%",
            "_model_name": "FloatProgressModel",
            "bar_style": "success",
            "max": 10000,
            "_view_module": "@jupyter-widgets/controls",
            "_model_module_version": "1.5.0",
            "value": 10000,
            "_view_count": null,
            "_view_module_version": "1.5.0",
            "orientation": "horizontal",
            "min": 0,
            "description_tooltip": null,
            "_model_module": "@jupyter-widgets/controls",
            "layout": "IPY_MODEL_b36b23ba962847a9963b151a217dabdc"
          }
        },
        "05d05f3f1cb34c1fb74e008c0cffa37c": {
          "model_module": "@jupyter-widgets/controls",
          "model_name": "HTMLModel",
          "state": {
            "_view_name": "HTMLView",
            "style": "IPY_MODEL_73bf745923ef488bad5624e2a42a4c03",
            "_dom_classes": [],
            "description": "",
            "_model_name": "HTMLModel",
            "placeholder": "​",
            "_view_module": "@jupyter-widgets/controls",
            "_model_module_version": "1.5.0",
            "value": " 10000/10000 [11:03&lt;00:00, 15.07it/s]",
            "_view_count": null,
            "_view_module_version": "1.5.0",
            "description_tooltip": null,
            "_model_module": "@jupyter-widgets/controls",
            "layout": "IPY_MODEL_2e67af1109ea4df3b1bda47700ec7148"
          }
        },
        "adbc7e7fbfe246ffa5486fc1ed063f59": {
          "model_module": "@jupyter-widgets/controls",
          "model_name": "ProgressStyleModel",
          "state": {
            "_view_name": "StyleView",
            "_model_name": "ProgressStyleModel",
            "description_width": "initial",
            "_view_module": "@jupyter-widgets/base",
            "_model_module_version": "1.5.0",
            "_view_count": null,
            "_view_module_version": "1.2.0",
            "bar_color": null,
            "_model_module": "@jupyter-widgets/controls"
          }
        },
        "b36b23ba962847a9963b151a217dabdc": {
          "model_module": "@jupyter-widgets/base",
          "model_name": "LayoutModel",
          "state": {
            "_view_name": "LayoutView",
            "grid_template_rows": null,
            "right": null,
            "justify_content": null,
            "_view_module": "@jupyter-widgets/base",
            "overflow": null,
            "_model_module_version": "1.2.0",
            "_view_count": null,
            "flex_flow": null,
            "width": null,
            "min_width": null,
            "border": null,
            "align_items": null,
            "bottom": null,
            "_model_module": "@jupyter-widgets/base",
            "top": null,
            "grid_column": null,
            "overflow_y": null,
            "overflow_x": null,
            "grid_auto_flow": null,
            "grid_area": null,
            "grid_template_columns": null,
            "flex": null,
            "_model_name": "LayoutModel",
            "justify_items": null,
            "grid_row": null,
            "max_height": null,
            "align_content": null,
            "visibility": null,
            "align_self": null,
            "height": null,
            "min_height": null,
            "padding": null,
            "grid_auto_rows": null,
            "grid_gap": null,
            "max_width": null,
            "order": null,
            "_view_module_version": "1.2.0",
            "grid_template_areas": null,
            "object_position": null,
            "object_fit": null,
            "grid_auto_columns": null,
            "margin": null,
            "display": null,
            "left": null
          }
        },
        "73bf745923ef488bad5624e2a42a4c03": {
          "model_module": "@jupyter-widgets/controls",
          "model_name": "DescriptionStyleModel",
          "state": {
            "_view_name": "StyleView",
            "_model_name": "DescriptionStyleModel",
            "description_width": "",
            "_view_module": "@jupyter-widgets/base",
            "_model_module_version": "1.5.0",
            "_view_count": null,
            "_view_module_version": "1.2.0",
            "_model_module": "@jupyter-widgets/controls"
          }
        },
        "2e67af1109ea4df3b1bda47700ec7148": {
          "model_module": "@jupyter-widgets/base",
          "model_name": "LayoutModel",
          "state": {
            "_view_name": "LayoutView",
            "grid_template_rows": null,
            "right": null,
            "justify_content": null,
            "_view_module": "@jupyter-widgets/base",
            "overflow": null,
            "_model_module_version": "1.2.0",
            "_view_count": null,
            "flex_flow": null,
            "width": null,
            "min_width": null,
            "border": null,
            "align_items": null,
            "bottom": null,
            "_model_module": "@jupyter-widgets/base",
            "top": null,
            "grid_column": null,
            "overflow_y": null,
            "overflow_x": null,
            "grid_auto_flow": null,
            "grid_area": null,
            "grid_template_columns": null,
            "flex": null,
            "_model_name": "LayoutModel",
            "justify_items": null,
            "grid_row": null,
            "max_height": null,
            "align_content": null,
            "visibility": null,
            "align_self": null,
            "height": null,
            "min_height": null,
            "padding": null,
            "grid_auto_rows": null,
            "grid_gap": null,
            "max_width": null,
            "order": null,
            "_view_module_version": "1.2.0",
            "grid_template_areas": null,
            "object_position": null,
            "object_fit": null,
            "grid_auto_columns": null,
            "margin": null,
            "display": null,
            "left": null
          }
        },
        "d08e5248fc7948db8a01d0d432a735d3": {
          "model_module": "@jupyter-widgets/controls",
          "model_name": "HBoxModel",
          "state": {
            "_view_name": "HBoxView",
            "_dom_classes": [],
            "_model_name": "HBoxModel",
            "_view_module": "@jupyter-widgets/controls",
            "_model_module_version": "1.5.0",
            "_view_count": null,
            "_view_module_version": "1.5.0",
            "box_style": "",
            "layout": "IPY_MODEL_f2ea99f073ab487695c52222b4e95474",
            "_model_module": "@jupyter-widgets/controls",
            "children": [
              "IPY_MODEL_15f0a48f9f6840cb98c24c0514f9a31a",
              "IPY_MODEL_6abafe0b65b243e392c94c1d32205eab"
            ]
          }
        },
        "f2ea99f073ab487695c52222b4e95474": {
          "model_module": "@jupyter-widgets/base",
          "model_name": "LayoutModel",
          "state": {
            "_view_name": "LayoutView",
            "grid_template_rows": null,
            "right": null,
            "justify_content": null,
            "_view_module": "@jupyter-widgets/base",
            "overflow": null,
            "_model_module_version": "1.2.0",
            "_view_count": null,
            "flex_flow": null,
            "width": null,
            "min_width": null,
            "border": null,
            "align_items": null,
            "bottom": null,
            "_model_module": "@jupyter-widgets/base",
            "top": null,
            "grid_column": null,
            "overflow_y": null,
            "overflow_x": null,
            "grid_auto_flow": null,
            "grid_area": null,
            "grid_template_columns": null,
            "flex": null,
            "_model_name": "LayoutModel",
            "justify_items": null,
            "grid_row": null,
            "max_height": null,
            "align_content": null,
            "visibility": null,
            "align_self": null,
            "height": null,
            "min_height": null,
            "padding": null,
            "grid_auto_rows": null,
            "grid_gap": null,
            "max_width": null,
            "order": null,
            "_view_module_version": "1.2.0",
            "grid_template_areas": null,
            "object_position": null,
            "object_fit": null,
            "grid_auto_columns": null,
            "margin": null,
            "display": null,
            "left": null
          }
        },
        "15f0a48f9f6840cb98c24c0514f9a31a": {
          "model_module": "@jupyter-widgets/controls",
          "model_name": "FloatProgressModel",
          "state": {
            "_view_name": "ProgressView",
            "style": "IPY_MODEL_331b9f7f339a4f0ca568b5f9368f2787",
            "_dom_classes": [],
            "description": "100%",
            "_model_name": "FloatProgressModel",
            "bar_style": "success",
            "max": 10000,
            "_view_module": "@jupyter-widgets/controls",
            "_model_module_version": "1.5.0",
            "value": 10000,
            "_view_count": null,
            "_view_module_version": "1.5.0",
            "orientation": "horizontal",
            "min": 0,
            "description_tooltip": null,
            "_model_module": "@jupyter-widgets/controls",
            "layout": "IPY_MODEL_56b54215d75e4dea87d396fd71a14183"
          }
        },
        "6abafe0b65b243e392c94c1d32205eab": {
          "model_module": "@jupyter-widgets/controls",
          "model_name": "HTMLModel",
          "state": {
            "_view_name": "HTMLView",
            "style": "IPY_MODEL_d4b63c9998b24f53bac24d79fac7d617",
            "_dom_classes": [],
            "description": "",
            "_model_name": "HTMLModel",
            "placeholder": "​",
            "_view_module": "@jupyter-widgets/controls",
            "_model_module_version": "1.5.0",
            "value": " 10000/10000 [14:04&lt;00:00, 11.84it/s]",
            "_view_count": null,
            "_view_module_version": "1.5.0",
            "description_tooltip": null,
            "_model_module": "@jupyter-widgets/controls",
            "layout": "IPY_MODEL_e81daba5617743ce961a8f46f3ab47ec"
          }
        },
        "331b9f7f339a4f0ca568b5f9368f2787": {
          "model_module": "@jupyter-widgets/controls",
          "model_name": "ProgressStyleModel",
          "state": {
            "_view_name": "StyleView",
            "_model_name": "ProgressStyleModel",
            "description_width": "initial",
            "_view_module": "@jupyter-widgets/base",
            "_model_module_version": "1.5.0",
            "_view_count": null,
            "_view_module_version": "1.2.0",
            "bar_color": null,
            "_model_module": "@jupyter-widgets/controls"
          }
        },
        "56b54215d75e4dea87d396fd71a14183": {
          "model_module": "@jupyter-widgets/base",
          "model_name": "LayoutModel",
          "state": {
            "_view_name": "LayoutView",
            "grid_template_rows": null,
            "right": null,
            "justify_content": null,
            "_view_module": "@jupyter-widgets/base",
            "overflow": null,
            "_model_module_version": "1.2.0",
            "_view_count": null,
            "flex_flow": null,
            "width": null,
            "min_width": null,
            "border": null,
            "align_items": null,
            "bottom": null,
            "_model_module": "@jupyter-widgets/base",
            "top": null,
            "grid_column": null,
            "overflow_y": null,
            "overflow_x": null,
            "grid_auto_flow": null,
            "grid_area": null,
            "grid_template_columns": null,
            "flex": null,
            "_model_name": "LayoutModel",
            "justify_items": null,
            "grid_row": null,
            "max_height": null,
            "align_content": null,
            "visibility": null,
            "align_self": null,
            "height": null,
            "min_height": null,
            "padding": null,
            "grid_auto_rows": null,
            "grid_gap": null,
            "max_width": null,
            "order": null,
            "_view_module_version": "1.2.0",
            "grid_template_areas": null,
            "object_position": null,
            "object_fit": null,
            "grid_auto_columns": null,
            "margin": null,
            "display": null,
            "left": null
          }
        },
        "d4b63c9998b24f53bac24d79fac7d617": {
          "model_module": "@jupyter-widgets/controls",
          "model_name": "DescriptionStyleModel",
          "state": {
            "_view_name": "StyleView",
            "_model_name": "DescriptionStyleModel",
            "description_width": "",
            "_view_module": "@jupyter-widgets/base",
            "_model_module_version": "1.5.0",
            "_view_count": null,
            "_view_module_version": "1.2.0",
            "_model_module": "@jupyter-widgets/controls"
          }
        },
        "e81daba5617743ce961a8f46f3ab47ec": {
          "model_module": "@jupyter-widgets/base",
          "model_name": "LayoutModel",
          "state": {
            "_view_name": "LayoutView",
            "grid_template_rows": null,
            "right": null,
            "justify_content": null,
            "_view_module": "@jupyter-widgets/base",
            "overflow": null,
            "_model_module_version": "1.2.0",
            "_view_count": null,
            "flex_flow": null,
            "width": null,
            "min_width": null,
            "border": null,
            "align_items": null,
            "bottom": null,
            "_model_module": "@jupyter-widgets/base",
            "top": null,
            "grid_column": null,
            "overflow_y": null,
            "overflow_x": null,
            "grid_auto_flow": null,
            "grid_area": null,
            "grid_template_columns": null,
            "flex": null,
            "_model_name": "LayoutModel",
            "justify_items": null,
            "grid_row": null,
            "max_height": null,
            "align_content": null,
            "visibility": null,
            "align_self": null,
            "height": null,
            "min_height": null,
            "padding": null,
            "grid_auto_rows": null,
            "grid_gap": null,
            "max_width": null,
            "order": null,
            "_view_module_version": "1.2.0",
            "grid_template_areas": null,
            "object_position": null,
            "object_fit": null,
            "grid_auto_columns": null,
            "margin": null,
            "display": null,
            "left": null
          }
        },
        "a17c4ff930fa453ba2c1435f0b8a89f3": {
          "model_module": "@jupyter-widgets/controls",
          "model_name": "HBoxModel",
          "state": {
            "_view_name": "HBoxView",
            "_dom_classes": [],
            "_model_name": "HBoxModel",
            "_view_module": "@jupyter-widgets/controls",
            "_model_module_version": "1.5.0",
            "_view_count": null,
            "_view_module_version": "1.5.0",
            "box_style": "",
            "layout": "IPY_MODEL_592322024454434cb98514524c72ea3a",
            "_model_module": "@jupyter-widgets/controls",
            "children": [
              "IPY_MODEL_c7bab2d4332d412bbaeb3d74c23714c5",
              "IPY_MODEL_f9ad4761b2664b499e0645998399563e"
            ]
          }
        },
        "592322024454434cb98514524c72ea3a": {
          "model_module": "@jupyter-widgets/base",
          "model_name": "LayoutModel",
          "state": {
            "_view_name": "LayoutView",
            "grid_template_rows": null,
            "right": null,
            "justify_content": null,
            "_view_module": "@jupyter-widgets/base",
            "overflow": null,
            "_model_module_version": "1.2.0",
            "_view_count": null,
            "flex_flow": null,
            "width": null,
            "min_width": null,
            "border": null,
            "align_items": null,
            "bottom": null,
            "_model_module": "@jupyter-widgets/base",
            "top": null,
            "grid_column": null,
            "overflow_y": null,
            "overflow_x": null,
            "grid_auto_flow": null,
            "grid_area": null,
            "grid_template_columns": null,
            "flex": null,
            "_model_name": "LayoutModel",
            "justify_items": null,
            "grid_row": null,
            "max_height": null,
            "align_content": null,
            "visibility": null,
            "align_self": null,
            "height": null,
            "min_height": null,
            "padding": null,
            "grid_auto_rows": null,
            "grid_gap": null,
            "max_width": null,
            "order": null,
            "_view_module_version": "1.2.0",
            "grid_template_areas": null,
            "object_position": null,
            "object_fit": null,
            "grid_auto_columns": null,
            "margin": null,
            "display": null,
            "left": null
          }
        },
        "c7bab2d4332d412bbaeb3d74c23714c5": {
          "model_module": "@jupyter-widgets/controls",
          "model_name": "FloatProgressModel",
          "state": {
            "_view_name": "ProgressView",
            "style": "IPY_MODEL_79bf320434bc433c9ee126e105518407",
            "_dom_classes": [],
            "description": "100%",
            "_model_name": "FloatProgressModel",
            "bar_style": "success",
            "max": 1000,
            "_view_module": "@jupyter-widgets/controls",
            "_model_module_version": "1.5.0",
            "value": 1000,
            "_view_count": null,
            "_view_module_version": "1.5.0",
            "orientation": "horizontal",
            "min": 0,
            "description_tooltip": null,
            "_model_module": "@jupyter-widgets/controls",
            "layout": "IPY_MODEL_ac651eec0a5d42cfad8fcda384b78eef"
          }
        },
        "f9ad4761b2664b499e0645998399563e": {
          "model_module": "@jupyter-widgets/controls",
          "model_name": "HTMLModel",
          "state": {
            "_view_name": "HTMLView",
            "style": "IPY_MODEL_49fe095acee94e7483b5da8a13774776",
            "_dom_classes": [],
            "description": "",
            "_model_name": "HTMLModel",
            "placeholder": "​",
            "_view_module": "@jupyter-widgets/controls",
            "_model_module_version": "1.5.0",
            "value": " 1000/1000 [00:04&lt;00:00, 231.85it/s]",
            "_view_count": null,
            "_view_module_version": "1.5.0",
            "description_tooltip": null,
            "_model_module": "@jupyter-widgets/controls",
            "layout": "IPY_MODEL_7c3b2b8ea5db4f34a2fd4b2a80127ab2"
          }
        },
        "79bf320434bc433c9ee126e105518407": {
          "model_module": "@jupyter-widgets/controls",
          "model_name": "ProgressStyleModel",
          "state": {
            "_view_name": "StyleView",
            "_model_name": "ProgressStyleModel",
            "description_width": "initial",
            "_view_module": "@jupyter-widgets/base",
            "_model_module_version": "1.5.0",
            "_view_count": null,
            "_view_module_version": "1.2.0",
            "bar_color": null,
            "_model_module": "@jupyter-widgets/controls"
          }
        },
        "ac651eec0a5d42cfad8fcda384b78eef": {
          "model_module": "@jupyter-widgets/base",
          "model_name": "LayoutModel",
          "state": {
            "_view_name": "LayoutView",
            "grid_template_rows": null,
            "right": null,
            "justify_content": null,
            "_view_module": "@jupyter-widgets/base",
            "overflow": null,
            "_model_module_version": "1.2.0",
            "_view_count": null,
            "flex_flow": null,
            "width": null,
            "min_width": null,
            "border": null,
            "align_items": null,
            "bottom": null,
            "_model_module": "@jupyter-widgets/base",
            "top": null,
            "grid_column": null,
            "overflow_y": null,
            "overflow_x": null,
            "grid_auto_flow": null,
            "grid_area": null,
            "grid_template_columns": null,
            "flex": null,
            "_model_name": "LayoutModel",
            "justify_items": null,
            "grid_row": null,
            "max_height": null,
            "align_content": null,
            "visibility": null,
            "align_self": null,
            "height": null,
            "min_height": null,
            "padding": null,
            "grid_auto_rows": null,
            "grid_gap": null,
            "max_width": null,
            "order": null,
            "_view_module_version": "1.2.0",
            "grid_template_areas": null,
            "object_position": null,
            "object_fit": null,
            "grid_auto_columns": null,
            "margin": null,
            "display": null,
            "left": null
          }
        },
        "49fe095acee94e7483b5da8a13774776": {
          "model_module": "@jupyter-widgets/controls",
          "model_name": "DescriptionStyleModel",
          "state": {
            "_view_name": "StyleView",
            "_model_name": "DescriptionStyleModel",
            "description_width": "",
            "_view_module": "@jupyter-widgets/base",
            "_model_module_version": "1.5.0",
            "_view_count": null,
            "_view_module_version": "1.2.0",
            "_model_module": "@jupyter-widgets/controls"
          }
        },
        "7c3b2b8ea5db4f34a2fd4b2a80127ab2": {
          "model_module": "@jupyter-widgets/base",
          "model_name": "LayoutModel",
          "state": {
            "_view_name": "LayoutView",
            "grid_template_rows": null,
            "right": null,
            "justify_content": null,
            "_view_module": "@jupyter-widgets/base",
            "overflow": null,
            "_model_module_version": "1.2.0",
            "_view_count": null,
            "flex_flow": null,
            "width": null,
            "min_width": null,
            "border": null,
            "align_items": null,
            "bottom": null,
            "_model_module": "@jupyter-widgets/base",
            "top": null,
            "grid_column": null,
            "overflow_y": null,
            "overflow_x": null,
            "grid_auto_flow": null,
            "grid_area": null,
            "grid_template_columns": null,
            "flex": null,
            "_model_name": "LayoutModel",
            "justify_items": null,
            "grid_row": null,
            "max_height": null,
            "align_content": null,
            "visibility": null,
            "align_self": null,
            "height": null,
            "min_height": null,
            "padding": null,
            "grid_auto_rows": null,
            "grid_gap": null,
            "max_width": null,
            "order": null,
            "_view_module_version": "1.2.0",
            "grid_template_areas": null,
            "object_position": null,
            "object_fit": null,
            "grid_auto_columns": null,
            "margin": null,
            "display": null,
            "left": null
          }
        },
        "23f51697ad304c4eac6be7f21b38d7d0": {
          "model_module": "@jupyter-widgets/controls",
          "model_name": "HBoxModel",
          "state": {
            "_view_name": "HBoxView",
            "_dom_classes": [],
            "_model_name": "HBoxModel",
            "_view_module": "@jupyter-widgets/controls",
            "_model_module_version": "1.5.0",
            "_view_count": null,
            "_view_module_version": "1.5.0",
            "box_style": "",
            "layout": "IPY_MODEL_9f3bd3b016c647b78a131360c3484ef8",
            "_model_module": "@jupyter-widgets/controls",
            "children": [
              "IPY_MODEL_69e9b55eeeac45d394a82ebce113281f",
              "IPY_MODEL_632603ab4f664ea891445e20dbc13ab2"
            ]
          }
        },
        "9f3bd3b016c647b78a131360c3484ef8": {
          "model_module": "@jupyter-widgets/base",
          "model_name": "LayoutModel",
          "state": {
            "_view_name": "LayoutView",
            "grid_template_rows": null,
            "right": null,
            "justify_content": null,
            "_view_module": "@jupyter-widgets/base",
            "overflow": null,
            "_model_module_version": "1.2.0",
            "_view_count": null,
            "flex_flow": null,
            "width": null,
            "min_width": null,
            "border": null,
            "align_items": null,
            "bottom": null,
            "_model_module": "@jupyter-widgets/base",
            "top": null,
            "grid_column": null,
            "overflow_y": null,
            "overflow_x": null,
            "grid_auto_flow": null,
            "grid_area": null,
            "grid_template_columns": null,
            "flex": null,
            "_model_name": "LayoutModel",
            "justify_items": null,
            "grid_row": null,
            "max_height": null,
            "align_content": null,
            "visibility": null,
            "align_self": null,
            "height": null,
            "min_height": null,
            "padding": null,
            "grid_auto_rows": null,
            "grid_gap": null,
            "max_width": null,
            "order": null,
            "_view_module_version": "1.2.0",
            "grid_template_areas": null,
            "object_position": null,
            "object_fit": null,
            "grid_auto_columns": null,
            "margin": null,
            "display": null,
            "left": null
          }
        },
        "69e9b55eeeac45d394a82ebce113281f": {
          "model_module": "@jupyter-widgets/controls",
          "model_name": "FloatProgressModel",
          "state": {
            "_view_name": "ProgressView",
            "style": "IPY_MODEL_7c998df72f424bdc993f9b09c4becdcf",
            "_dom_classes": [],
            "description": "100%",
            "_model_name": "FloatProgressModel",
            "bar_style": "success",
            "max": 10000,
            "_view_module": "@jupyter-widgets/controls",
            "_model_module_version": "1.5.0",
            "value": 10000,
            "_view_count": null,
            "_view_module_version": "1.5.0",
            "orientation": "horizontal",
            "min": 0,
            "description_tooltip": null,
            "_model_module": "@jupyter-widgets/controls",
            "layout": "IPY_MODEL_6c92914013e14bc78f795873646f490e"
          }
        },
        "632603ab4f664ea891445e20dbc13ab2": {
          "model_module": "@jupyter-widgets/controls",
          "model_name": "HTMLModel",
          "state": {
            "_view_name": "HTMLView",
            "style": "IPY_MODEL_42e9fd72892a437a8bdb32680b48fc19",
            "_dom_classes": [],
            "description": "",
            "_model_name": "HTMLModel",
            "placeholder": "​",
            "_view_module": "@jupyter-widgets/controls",
            "_model_module_version": "1.5.0",
            "value": " 10000/10000 [10:05&lt;00:00, 16.52it/s]",
            "_view_count": null,
            "_view_module_version": "1.5.0",
            "description_tooltip": null,
            "_model_module": "@jupyter-widgets/controls",
            "layout": "IPY_MODEL_054ad28ed899456c94c5b987f6a34c5e"
          }
        },
        "7c998df72f424bdc993f9b09c4becdcf": {
          "model_module": "@jupyter-widgets/controls",
          "model_name": "ProgressStyleModel",
          "state": {
            "_view_name": "StyleView",
            "_model_name": "ProgressStyleModel",
            "description_width": "initial",
            "_view_module": "@jupyter-widgets/base",
            "_model_module_version": "1.5.0",
            "_view_count": null,
            "_view_module_version": "1.2.0",
            "bar_color": null,
            "_model_module": "@jupyter-widgets/controls"
          }
        },
        "6c92914013e14bc78f795873646f490e": {
          "model_module": "@jupyter-widgets/base",
          "model_name": "LayoutModel",
          "state": {
            "_view_name": "LayoutView",
            "grid_template_rows": null,
            "right": null,
            "justify_content": null,
            "_view_module": "@jupyter-widgets/base",
            "overflow": null,
            "_model_module_version": "1.2.0",
            "_view_count": null,
            "flex_flow": null,
            "width": null,
            "min_width": null,
            "border": null,
            "align_items": null,
            "bottom": null,
            "_model_module": "@jupyter-widgets/base",
            "top": null,
            "grid_column": null,
            "overflow_y": null,
            "overflow_x": null,
            "grid_auto_flow": null,
            "grid_area": null,
            "grid_template_columns": null,
            "flex": null,
            "_model_name": "LayoutModel",
            "justify_items": null,
            "grid_row": null,
            "max_height": null,
            "align_content": null,
            "visibility": null,
            "align_self": null,
            "height": null,
            "min_height": null,
            "padding": null,
            "grid_auto_rows": null,
            "grid_gap": null,
            "max_width": null,
            "order": null,
            "_view_module_version": "1.2.0",
            "grid_template_areas": null,
            "object_position": null,
            "object_fit": null,
            "grid_auto_columns": null,
            "margin": null,
            "display": null,
            "left": null
          }
        },
        "42e9fd72892a437a8bdb32680b48fc19": {
          "model_module": "@jupyter-widgets/controls",
          "model_name": "DescriptionStyleModel",
          "state": {
            "_view_name": "StyleView",
            "_model_name": "DescriptionStyleModel",
            "description_width": "",
            "_view_module": "@jupyter-widgets/base",
            "_model_module_version": "1.5.0",
            "_view_count": null,
            "_view_module_version": "1.2.0",
            "_model_module": "@jupyter-widgets/controls"
          }
        },
        "054ad28ed899456c94c5b987f6a34c5e": {
          "model_module": "@jupyter-widgets/base",
          "model_name": "LayoutModel",
          "state": {
            "_view_name": "LayoutView",
            "grid_template_rows": null,
            "right": null,
            "justify_content": null,
            "_view_module": "@jupyter-widgets/base",
            "overflow": null,
            "_model_module_version": "1.2.0",
            "_view_count": null,
            "flex_flow": null,
            "width": null,
            "min_width": null,
            "border": null,
            "align_items": null,
            "bottom": null,
            "_model_module": "@jupyter-widgets/base",
            "top": null,
            "grid_column": null,
            "overflow_y": null,
            "overflow_x": null,
            "grid_auto_flow": null,
            "grid_area": null,
            "grid_template_columns": null,
            "flex": null,
            "_model_name": "LayoutModel",
            "justify_items": null,
            "grid_row": null,
            "max_height": null,
            "align_content": null,
            "visibility": null,
            "align_self": null,
            "height": null,
            "min_height": null,
            "padding": null,
            "grid_auto_rows": null,
            "grid_gap": null,
            "max_width": null,
            "order": null,
            "_view_module_version": "1.2.0",
            "grid_template_areas": null,
            "object_position": null,
            "object_fit": null,
            "grid_auto_columns": null,
            "margin": null,
            "display": null,
            "left": null
          }
        },
        "8b421fad79434e4c9fc7b0a8891a6f52": {
          "model_module": "@jupyter-widgets/controls",
          "model_name": "HBoxModel",
          "state": {
            "_view_name": "HBoxView",
            "_dom_classes": [],
            "_model_name": "HBoxModel",
            "_view_module": "@jupyter-widgets/controls",
            "_model_module_version": "1.5.0",
            "_view_count": null,
            "_view_module_version": "1.5.0",
            "box_style": "",
            "layout": "IPY_MODEL_cc35d77568c440e0b7478e4e12825d36",
            "_model_module": "@jupyter-widgets/controls",
            "children": [
              "IPY_MODEL_e5d601bc91cb4cb2a3b0f1b071eab6f2",
              "IPY_MODEL_bcd7e89c5bca45349258773cb372a177"
            ]
          }
        },
        "cc35d77568c440e0b7478e4e12825d36": {
          "model_module": "@jupyter-widgets/base",
          "model_name": "LayoutModel",
          "state": {
            "_view_name": "LayoutView",
            "grid_template_rows": null,
            "right": null,
            "justify_content": null,
            "_view_module": "@jupyter-widgets/base",
            "overflow": null,
            "_model_module_version": "1.2.0",
            "_view_count": null,
            "flex_flow": null,
            "width": null,
            "min_width": null,
            "border": null,
            "align_items": null,
            "bottom": null,
            "_model_module": "@jupyter-widgets/base",
            "top": null,
            "grid_column": null,
            "overflow_y": null,
            "overflow_x": null,
            "grid_auto_flow": null,
            "grid_area": null,
            "grid_template_columns": null,
            "flex": null,
            "_model_name": "LayoutModel",
            "justify_items": null,
            "grid_row": null,
            "max_height": null,
            "align_content": null,
            "visibility": null,
            "align_self": null,
            "height": null,
            "min_height": null,
            "padding": null,
            "grid_auto_rows": null,
            "grid_gap": null,
            "max_width": null,
            "order": null,
            "_view_module_version": "1.2.0",
            "grid_template_areas": null,
            "object_position": null,
            "object_fit": null,
            "grid_auto_columns": null,
            "margin": null,
            "display": null,
            "left": null
          }
        },
        "e5d601bc91cb4cb2a3b0f1b071eab6f2": {
          "model_module": "@jupyter-widgets/controls",
          "model_name": "FloatProgressModel",
          "state": {
            "_view_name": "ProgressView",
            "style": "IPY_MODEL_aaea8048caed4607bb76b7773625c7da",
            "_dom_classes": [],
            "description": "100%",
            "_model_name": "FloatProgressModel",
            "bar_style": "success",
            "max": 1000,
            "_view_module": "@jupyter-widgets/controls",
            "_model_module_version": "1.5.0",
            "value": 1000,
            "_view_count": null,
            "_view_module_version": "1.5.0",
            "orientation": "horizontal",
            "min": 0,
            "description_tooltip": null,
            "_model_module": "@jupyter-widgets/controls",
            "layout": "IPY_MODEL_98fcb913a21142aa8bf25df2dbc3a099"
          }
        },
        "bcd7e89c5bca45349258773cb372a177": {
          "model_module": "@jupyter-widgets/controls",
          "model_name": "HTMLModel",
          "state": {
            "_view_name": "HTMLView",
            "style": "IPY_MODEL_5f827c926c5a4693be91643051aeda69",
            "_dom_classes": [],
            "description": "",
            "_model_name": "HTMLModel",
            "placeholder": "​",
            "_view_module": "@jupyter-widgets/controls",
            "_model_module_version": "1.5.0",
            "value": " 1000/1000 [00:04&lt;00:00, 214.61it/s]",
            "_view_count": null,
            "_view_module_version": "1.5.0",
            "description_tooltip": null,
            "_model_module": "@jupyter-widgets/controls",
            "layout": "IPY_MODEL_30890803aac44270a0577ed6c6755ae7"
          }
        },
        "aaea8048caed4607bb76b7773625c7da": {
          "model_module": "@jupyter-widgets/controls",
          "model_name": "ProgressStyleModel",
          "state": {
            "_view_name": "StyleView",
            "_model_name": "ProgressStyleModel",
            "description_width": "initial",
            "_view_module": "@jupyter-widgets/base",
            "_model_module_version": "1.5.0",
            "_view_count": null,
            "_view_module_version": "1.2.0",
            "bar_color": null,
            "_model_module": "@jupyter-widgets/controls"
          }
        },
        "98fcb913a21142aa8bf25df2dbc3a099": {
          "model_module": "@jupyter-widgets/base",
          "model_name": "LayoutModel",
          "state": {
            "_view_name": "LayoutView",
            "grid_template_rows": null,
            "right": null,
            "justify_content": null,
            "_view_module": "@jupyter-widgets/base",
            "overflow": null,
            "_model_module_version": "1.2.0",
            "_view_count": null,
            "flex_flow": null,
            "width": null,
            "min_width": null,
            "border": null,
            "align_items": null,
            "bottom": null,
            "_model_module": "@jupyter-widgets/base",
            "top": null,
            "grid_column": null,
            "overflow_y": null,
            "overflow_x": null,
            "grid_auto_flow": null,
            "grid_area": null,
            "grid_template_columns": null,
            "flex": null,
            "_model_name": "LayoutModel",
            "justify_items": null,
            "grid_row": null,
            "max_height": null,
            "align_content": null,
            "visibility": null,
            "align_self": null,
            "height": null,
            "min_height": null,
            "padding": null,
            "grid_auto_rows": null,
            "grid_gap": null,
            "max_width": null,
            "order": null,
            "_view_module_version": "1.2.0",
            "grid_template_areas": null,
            "object_position": null,
            "object_fit": null,
            "grid_auto_columns": null,
            "margin": null,
            "display": null,
            "left": null
          }
        },
        "5f827c926c5a4693be91643051aeda69": {
          "model_module": "@jupyter-widgets/controls",
          "model_name": "DescriptionStyleModel",
          "state": {
            "_view_name": "StyleView",
            "_model_name": "DescriptionStyleModel",
            "description_width": "",
            "_view_module": "@jupyter-widgets/base",
            "_model_module_version": "1.5.0",
            "_view_count": null,
            "_view_module_version": "1.2.0",
            "_model_module": "@jupyter-widgets/controls"
          }
        },
        "30890803aac44270a0577ed6c6755ae7": {
          "model_module": "@jupyter-widgets/base",
          "model_name": "LayoutModel",
          "state": {
            "_view_name": "LayoutView",
            "grid_template_rows": null,
            "right": null,
            "justify_content": null,
            "_view_module": "@jupyter-widgets/base",
            "overflow": null,
            "_model_module_version": "1.2.0",
            "_view_count": null,
            "flex_flow": null,
            "width": null,
            "min_width": null,
            "border": null,
            "align_items": null,
            "bottom": null,
            "_model_module": "@jupyter-widgets/base",
            "top": null,
            "grid_column": null,
            "overflow_y": null,
            "overflow_x": null,
            "grid_auto_flow": null,
            "grid_area": null,
            "grid_template_columns": null,
            "flex": null,
            "_model_name": "LayoutModel",
            "justify_items": null,
            "grid_row": null,
            "max_height": null,
            "align_content": null,
            "visibility": null,
            "align_self": null,
            "height": null,
            "min_height": null,
            "padding": null,
            "grid_auto_rows": null,
            "grid_gap": null,
            "max_width": null,
            "order": null,
            "_view_module_version": "1.2.0",
            "grid_template_areas": null,
            "object_position": null,
            "object_fit": null,
            "grid_auto_columns": null,
            "margin": null,
            "display": null,
            "left": null
          }
        }
      }
    }
  },
  "cells": [
    {
      "cell_type": "markdown",
      "metadata": {
        "id": "view-in-github",
        "colab_type": "text"
      },
      "source": [
        "<a href=\"https://colab.research.google.com/github/qinyang-bao/rl-in-action/blob/master/IntroToRL_P1_TaxiV3_Solved.ipynb\" target=\"_parent\"><img src=\"https://colab.research.google.com/assets/colab-badge.svg\" alt=\"Open In Colab\"/></a>"
      ]
    },
    {
      "cell_type": "markdown",
      "metadata": {
        "id": "q-ZMihoejC70"
      },
      "source": [
        "# P1: Solve the OpenAI Gym [Taxi V3](https://gym.openai.com/envs/Taxi-v3/) Environment\n",
        "---"
      ]
    },
    {
      "cell_type": "markdown",
      "metadata": {
        "id": "AhEFocu7jC76"
      },
      "source": [
        "## Introduction\n",
        "[OpenAI Gym](https://gym.openai.com/docs/) is a framework that provides RL environments of varying complexity with the same standard API making it easy to develop and benchmark RL algorithms. The [Taxi-V3](https://gym.openai.com/envs/Taxi-v3/) environmnet present a simple, text environment where actions and state (observations) are both discrete. "
      ]
    },
    {
      "cell_type": "code",
      "metadata": {
        "id": "BSwvy-zbjC76"
      },
      "source": [
        "import gym"
      ],
      "execution_count": null,
      "outputs": []
    },
    {
      "cell_type": "markdown",
      "metadata": {
        "id": "4vefiujIjC77"
      },
      "source": [
        "The `gym.make()` API can be used to spawn any of the available environments by passing its full name."
      ]
    },
    {
      "cell_type": "code",
      "metadata": {
        "id": "KeostNU0jC77"
      },
      "source": [
        "taxi = gym.make('Taxi-v3')"
      ],
      "execution_count": null,
      "outputs": []
    },
    {
      "cell_type": "markdown",
      "metadata": {
        "id": "4aGcYhInjC77"
      },
      "source": [
        "The Taxi environment has 500 states and 6 possible actions."
      ]
    },
    {
      "cell_type": "code",
      "metadata": {
        "id": "g4cpAVTBjC78",
        "colab": {
          "base_uri": "https://localhost:8080/"
        },
        "outputId": "767aef4a-b098-4916-a8dc-1dd7f5f58592"
      },
      "source": [
        "taxi.action_space"
      ],
      "execution_count": null,
      "outputs": [
        {
          "output_type": "execute_result",
          "data": {
            "text/plain": [
              "Discrete(6)"
            ]
          },
          "metadata": {
            "tags": []
          },
          "execution_count": 3
        }
      ]
    },
    {
      "cell_type": "code",
      "metadata": {
        "id": "3ytPxWeKjC79",
        "colab": {
          "base_uri": "https://localhost:8080/"
        },
        "outputId": "e673c3ab-cc96-4c70-e38e-8513e4c53d4e"
      },
      "source": [
        "taxi.observation_space"
      ],
      "execution_count": null,
      "outputs": [
        {
          "output_type": "execute_result",
          "data": {
            "text/plain": [
              "Discrete(500)"
            ]
          },
          "metadata": {
            "tags": []
          },
          "execution_count": 4
        }
      ]
    },
    {
      "cell_type": "markdown",
      "metadata": {
        "id": "WEoBQvmbjC79"
      },
      "source": [
        "The task and reward structure are described in the [documentation](https://github.com/openai/gym/blob/a5a6ae6bc0a5cfc0ff1ce9be723d59593c165022/gym/envs/toy_text/taxi.py#L25)"
      ]
    },
    {
      "cell_type": "code",
      "metadata": {
        "id": "LJW9s_u1jC79",
        "colab": {
          "base_uri": "https://localhost:8080/"
        },
        "outputId": "394ff2ea-8406-49d7-ab59-da36f039441a"
      },
      "source": [
        "taxi.reset()\n",
        "taxi.render()"
      ],
      "execution_count": null,
      "outputs": [
        {
          "output_type": "stream",
          "text": [
            "+---------+\n",
            "|R: | : :\u001b[34;1mG\u001b[0m|\n",
            "| : | : :\u001b[43m \u001b[0m|\n",
            "| : : : : |\n",
            "| | : | : |\n",
            "|\u001b[35mY\u001b[0m| : |B: |\n",
            "+---------+\n",
            "\n"
          ],
          "name": "stdout"
        }
      ]
    },
    {
      "cell_type": "markdown",
      "metadata": {
        "id": "OFALIJ1jjC7-"
      },
      "source": [
        "## Submission\n",
        "- Submit your solution as a Jupyter notebook. \n",
        "- Ensure that all cells in the notebook have been executed and the output is showing\n",
        "- Ensure that your solution consistently reaches the average cumulative reward defined in the rubric (link below)\n",
        "- Post your solution on Github and share the link to your commit as a direct message in Slack"
      ]
    },
    {
      "cell_type": "markdown",
      "metadata": {
        "id": "Dh-o1wKwjuk4"
      },
      "source": [
        "##Evaluation\n",
        "The goal of the project is to get a certain average (cumulative) reward over 100 episodes. To pass the project, you must meet all the requirments in the project rubric"
      ]
    },
    {
      "cell_type": "markdown",
      "metadata": {
        "id": "YgGWrIECj8rJ"
      },
      "source": [
        "### Q1, Describe the methods and variables in the class DiscreteEnv which is the parent class of the Taxi V3 class.\n",
        "This class has the following member variables:\n",
        "- nS: number of states\n",
        "- nA: number of actions\n",
        "- P: transitions table, which is a dictionary of lists, where `P[s][a] == [(probability, nextstate, reward, done), ...]`. Essentially, for any state action pair, this dictionary defines the probability to transition to all possible next state, and the reward associated with such transitions, as well as whether the episode will end afte rthe transition. \n",
        "- isd: initial state distribution, which is a list of length nS, specifiying the initial states. \n",
        "- lastaction : the last action taken by the agent\n",
        "- action_space: possible actions, size set to nA\n",
        "- observation_space: possible observations, size set to nS. This means all states are available(observable) to the agent.\n",
        "\n",
        "This class has the following methods:\n",
        "- __init__(self, nS, nA, P, isd): set nA, nS, P, isd as given. Create the action and observation spaces. Set random seed. Lastly, set initial state by sampling from the isd.\n",
        "- seed(self): set the random seed for sampling from the action space and/or observation space.\n",
        "- reset(self): reset the envirnoment. This includes resetting the current state by sampling the isd, and resetting lastaction to None.\n",
        "- step(self, a): simulate one state transition based on the current state and the action. This is done by sampling the P (transition table) at the given state, action pair, using the transition probabilities for different next states at such state, action pair. \n",
        "\n",
        "### Q2, Describe the methods and variables in the Taxi V3 class.\n",
        "This class has the following member variables:\n",
        "- desc: this is the map stored as a numpy array.\n",
        "- locs: the possible locations for passenger pick up locations and/or passenger drop off locations\n",
        "- all the other members inherited from class DiscreteEnv. \n",
        "\n",
        "This class has the following methods:\n",
        "- __init__(self): sets the desc and locs. It then fills the P (tranistions table) by iterating through each possible states and actions. The transition probability to any next state reachable by the chosen action is always set to 1. This means the state transitions are deterministic, any state action pair would lead to a predictable outcome. Asides from the tranistion probabilities, the next state, reward, and epsiode done are also set based on the outcome of the given state action pair. The possible initial states are also recorded while looping through the states, and afterwards the initial state distribution (isd) is created.   \n",
        "Next, the generated P and isd, along with the nS and nA which are given based on the taxi v3 problem description, are passed to DiscreteEnv's constructor for\n",
        "the remaining initialization steps.\n",
        "- encode(self, taxi_row, taxi_col, pass_loc, dest_idx): this encodes the state to a single integer.\n",
        "- decode(self, i): this recoves the state from a single integer. \n",
        "- render(self, mode='human'): this displays the current environment. When mode is set to \"human\", prints to stdout. Else is mode is set to \"ansi\", output to a file. \n",
        "\n",
        "### Q3, Describe the Taxi V3 environment, its actions, states, reward structure and the rationale behind such a reward structure.\n",
        "There are six possible actions: \n",
        "- 0: move south\n",
        "- 1: move north\n",
        "- 2: move east\n",
        "- 3: move west\n",
        "- 4: pickup passenger\n",
        "- 5: drop off passenger\n",
        "\n",
        "There are 500 states (observations), because the map is 5x5, given 25 possible positions for the taxi; 4 possible destinations; and 5 possible locations of the passenger (4 pickup/drop off locations and 1 in taxi). 25 x 4 x 5 is 500 states.\n",
        "\n",
        "The reward is:\n",
        "- -1 for any step, except\n",
        "- +20 for dropping off the passenger at the desired destination\n",
        "- -10 for executing illegal drop off / pick up actions. The only legal pick up is when the passenger is not on taxi, and the taxi is at the passenger's pick up location. As for drop offs, any drop off at one of the destination locations is legal without the -10 penalties, but only a drop off at the passenger's desired destination will give the +20 reward. In otherwards, dropping off at the non-desired destination has the default -1 reward.\n",
        "\n",
        "\n",
        "## See below cells for traning & evaluations\n"
      ]
    },
    {
      "cell_type": "code",
      "metadata": {
        "id": "Fuk6AEmz6PAQ"
      },
      "source": [
        "import pandas as pd\n",
        "import numpy as np\n",
        "from tqdm.notebook import tqdm\n",
        "import matplotlib.pyplot as plt"
      ],
      "execution_count": 82,
      "outputs": []
    },
    {
      "cell_type": "code",
      "metadata": {
        "id": "Bya0-dyokAMm"
      },
      "source": [
        "def epsilon_greedy_action_from_Q(Q, state, epsilon):\n",
        "    actions = Q.columns\n",
        "    action_probs = np.asarray([epsilon/len(actions)]*len(actions),dtype=np.float)\n",
        "    \n",
        "    greedy_action_index = np.argmax(Q.loc[state].values)\n",
        "    action_probs[greedy_action_index] += 1-epsilon\n",
        "\n",
        "    epsilon_greedy_action = np.random.choice(Q.columns,p=action_probs)\n",
        "    \n",
        "    return epsilon_greedy_action \n",
        "\n",
        "def greedy_action_from_Q(Q, state):\n",
        "    return Q.loc[state].idxmax()  \n"
      ],
      "execution_count": 83,
      "outputs": []
    },
    {
      "cell_type": "code",
      "metadata": {
        "id": "jFfrQkzKBe-6"
      },
      "source": [
        "def q_learning(Q, rewards, episodes, hyper_params, training=True):\n",
        "  assert len(rewards) == hyper_params[\"n_episodes\"]\n",
        "\n",
        "  epsilon = hyper_params[\"init_epsilon\"]\n",
        "\n",
        "  illegal_action_detected = False\n",
        "\n",
        "  # trainning loop, Q-learning\n",
        "  for i in tqdm(range(hyper_params[\"n_episodes\"])):\n",
        "    taxi.reset()\n",
        "    s0 = taxi.s\n",
        "    done = False\n",
        "\n",
        "    episode_reward = 0\n",
        "    episode = []\n",
        "    while not done:\n",
        "      if training:\n",
        "        a0 = epsilon_greedy_action_from_Q(Q,s0,epsilon)\n",
        "        s1, reward, done, _  = taxi.step(a0)\n",
        "\n",
        "        Q.loc[s0,a0] += hyper_params[\"alpha\"]*(reward + hyper_params[\"gamma\"]*Q.loc[s1].max() - Q.loc[s0,a0])\n",
        "      # when we are not training, just use the greedy action, assuming our policy is optimum at this poiny of time\n",
        "      else:\n",
        "        a0 = greedy_action_from_Q(Q,s0)\n",
        "        s1, reward, done, _  = taxi.step(a0)\n",
        "      \n",
        "      # record reward and episode\n",
        "      episode_reward += reward\n",
        "      episode.append((s1, reward, done, _))\n",
        "\n",
        "      # check if we have an illegal action\n",
        "      if reward == -10:\n",
        "        illegal_action_detected = True\n",
        "\n",
        "      s0 = s1\n",
        "    \n",
        "    # epsilon decay\n",
        "    epsilon *= hyper_params[\"epsilon_decay\"]\n",
        "    epsilon = max(epsilon, hyper_params[\"min_epsilon\"])\n",
        "\n",
        "    rewards[i] = episode_reward\n",
        "    episodes.append(episode)\n",
        "\n",
        "  return illegal_action_detected"
      ],
      "execution_count": 117,
      "outputs": []
    },
    {
      "cell_type": "code",
      "metadata": {
        "id": "Ncau3wvE8RfG",
        "colab": {
          "base_uri": "https://localhost:8080/",
          "height": 314,
          "referenced_widgets": [
            "679bcfd7dd574c82b5d78c2fd52239b9",
            "f6e737e844ba432a8701acb067668b1c",
            "e42074b3b8ab4d28b3c71eb0a59eed3b",
            "9dff00846a9943e6904f8eb03421536f",
            "db371a48244748ae9a0396e442b5802a",
            "26e60fa8697b4aa6898faed8106a9fe6",
            "7101f308534f4756a010eb63e08ef449",
            "c2f091aff24b447a9066a14d445039d7"
          ]
        },
        "outputId": "8c85c683-ee64-422d-c37d-a48d4c2fc0f3"
      },
      "source": [
        "Q = pd.DataFrame.from_dict({s:{a:0 for a in range(taxi.nA)} for s in range(taxi.nS)}, orient='index')\n",
        "\n",
        "hyper_params = {\"n_episodes\": 5000, \"init_epsilon\": 1, \"min_epsilon\": 0.1, \"epsilon_decay\": 0.9995, \"alpha\": 0.05, \"gamma\": 0.9}\n",
        "\n",
        "rewards = np.zeros(hyper_params[\"n_episodes\"])\n",
        "episodes = []\n",
        "\n",
        "q_learning(Q, rewards, episodes, hyper_params)\n",
        "\n",
        "windowed_rewards = np.convolve(rewards, np.ones(100), 'valid')\n",
        "windowed_rewards = windowed_rewards/100\n",
        "plt.plot(windowed_rewards)\n",
        "plt.show()"
      ],
      "execution_count": 93,
      "outputs": [
        {
          "output_type": "display_data",
          "data": {
            "application/vnd.jupyter.widget-view+json": {
              "model_id": "679bcfd7dd574c82b5d78c2fd52239b9",
              "version_minor": 0,
              "version_major": 2
            },
            "text/plain": [
              "HBox(children=(FloatProgress(value=0.0, max=5000.0), HTML(value='')))"
            ]
          },
          "metadata": {
            "tags": []
          }
        },
        {
          "output_type": "stream",
          "text": [
            "\n"
          ],
          "name": "stdout"
        },
        {
          "output_type": "display_data",
          "data": {
            "image/png": "[encoded data removed]",
            "text/plain": [
              "<Figure size 432x288 with 1 Axes>"
            ]
          },
          "metadata": {
            "tags": [],
            "needs_background": "light"
          }
        }
      ]
    },
    {
      "cell_type": "code",
      "metadata": {
        "colab": {
          "base_uri": "https://localhost:8080/"
        },
        "id": "SXAgDptsYIV8",
        "outputId": "bb52d4a7-ee53-4d10-e635-c0749d099377"
      },
      "source": [
        "np.percentile(windowed_rewards[-1000:], q=[5, 95])"
      ],
      "execution_count": 94,
      "outputs": [
        {
          "output_type": "execute_result",
          "data": {
            "text/plain": [
              "array([-0.43  ,  2.9205])"
            ]
          },
          "metadata": {
            "tags": []
          },
          "execution_count": 94
        }
      ]
    },
    {
      "cell_type": "code",
      "metadata": {
        "colab": {
          "base_uri": "https://localhost:8080/",
          "height": 314,
          "referenced_widgets": [
            "f8737220edc24847bed78140e41f9279",
            "32fada62c3c44c12893c0d503a5de76d",
            "657c86fc879f46c387ef6b4759618cdf",
            "05d05f3f1cb34c1fb74e008c0cffa37c",
            "adbc7e7fbfe246ffa5486fc1ed063f59",
            "b36b23ba962847a9963b151a217dabdc",
            "73bf745923ef488bad5624e2a42a4c03",
            "2e67af1109ea4df3b1bda47700ec7148"
          ]
        },
        "id": "GiSIFJA-Y91l",
        "outputId": "a899c18e-8dc3-4f0c-db53-a0b133f3794c"
      },
      "source": [
        "Q = pd.DataFrame.from_dict({s:{a:0 for a in range(taxi.nA)} for s in range(taxi.nS)}, orient='index')\n",
        "\n",
        "hyper_params = {\"n_episodes\": 10000, \"init_epsilon\": 1, \"min_epsilon\": 0.1, \"epsilon_decay\": 0.9995, \"alpha\": 0.05, \"gamma\": 0.9}\n",
        "\n",
        "rewards = np.zeros(hyper_params[\"n_episodes\"])\n",
        "episodes = []\n",
        "\n",
        "q_learning(Q, rewards, episodes, hyper_params)\n",
        "\n",
        "windowed_rewards = np.convolve(rewards, np.ones(100), 'valid')\n",
        "windowed_rewards = windowed_rewards/100\n",
        "plt.plot(windowed_rewards)\n",
        "plt.show()"
      ],
      "execution_count": 95,
      "outputs": [
        {
          "output_type": "display_data",
          "data": {
            "application/vnd.jupyter.widget-view+json": {
              "model_id": "f8737220edc24847bed78140e41f9279",
              "version_minor": 0,
              "version_major": 2
            },
            "text/plain": [
              "HBox(children=(FloatProgress(value=0.0, max=10000.0), HTML(value='')))"
            ]
          },
          "metadata": {
            "tags": []
          }
        },
        {
          "output_type": "stream",
          "text": [
            "\n"
          ],
          "name": "stdout"
        },
        {
          "output_type": "display_data",
          "data": {
            "image/png": "[encoded data removed]",
            "text/plain": [
              "<Figure size 432x288 with 1 Axes>"
            ]
          },
          "metadata": {
            "tags": [],
            "needs_background": "light"
          }
        }
      ]
    },
    {
      "cell_type": "code",
      "metadata": {
        "colab": {
          "base_uri": "https://localhost:8080/"
        },
        "id": "r6Vx8LB3erGU",
        "outputId": "cca91106-ae86-4d86-8b91-f8588b4c3e98"
      },
      "source": [
        "np.percentile(windowed_rewards[-1000:], q=[5, 95])"
      ],
      "execution_count": 96,
      "outputs": [
        {
          "output_type": "execute_result",
          "data": {
            "text/plain": [
              "array([0.6595, 4.0905])"
            ]
          },
          "metadata": {
            "tags": []
          },
          "execution_count": 96
        }
      ]
    },
    {
      "cell_type": "code",
      "metadata": {
        "colab": {
          "base_uri": "https://localhost:8080/",
          "height": 314,
          "referenced_widgets": [
            "d08e5248fc7948db8a01d0d432a735d3",
            "f2ea99f073ab487695c52222b4e95474",
            "15f0a48f9f6840cb98c24c0514f9a31a",
            "6abafe0b65b243e392c94c1d32205eab",
            "331b9f7f339a4f0ca568b5f9368f2787",
            "56b54215d75e4dea87d396fd71a14183",
            "d4b63c9998b24f53bac24d79fac7d617",
            "e81daba5617743ce961a8f46f3ab47ec"
          ]
        },
        "id": "JMgnzKOcfwIE",
        "outputId": "6a22faeb-6034-47ba-d06c-5b454b799f5c"
      },
      "source": [
        "Q = pd.DataFrame.from_dict({s:{a:0 for a in range(taxi.nA)} for s in range(taxi.nS)}, orient='index')\n",
        "\n",
        "hyper_params = {\"n_episodes\": 10000, \"init_epsilon\": 1, \"min_epsilon\": 0, \"epsilon_decay\": 0.9995, \"alpha\": 0.05, \"gamma\": 0.9}\n",
        "\n",
        "rewards = np.zeros(hyper_params[\"n_episodes\"])\n",
        "episodes = []\n",
        "\n",
        "q_learning(Q, rewards, episodes, hyper_params)\n",
        "\n",
        "windowed_rewards = np.convolve(rewards, np.ones(100), 'valid')\n",
        "windowed_rewards = windowed_rewards/100\n",
        "plt.plot(windowed_rewards)\n",
        "plt.show()"
      ],
      "execution_count": 97,
      "outputs": [
        {
          "output_type": "display_data",
          "data": {
            "application/vnd.jupyter.widget-view+json": {
              "model_id": "d08e5248fc7948db8a01d0d432a735d3",
              "version_minor": 0,
              "version_major": 2
            },
            "text/plain": [
              "HBox(children=(FloatProgress(value=0.0, max=10000.0), HTML(value='')))"
            ]
          },
          "metadata": {
            "tags": []
          }
        },
        {
          "output_type": "stream",
          "text": [
            "\n"
          ],
          "name": "stdout"
        },
        {
          "output_type": "display_data",
          "data": {
            "image/png": "[encoded data removed]",
            "text/plain": [
              "<Figure size 432x288 with 1 Axes>"
            ]
          },
          "metadata": {
            "tags": [],
            "needs_background": "light"
          }
        }
      ]
    },
    {
      "cell_type": "code",
      "metadata": {
        "colab": {
          "base_uri": "https://localhost:8080/"
        },
        "id": "xkrfWk_GhLCo",
        "outputId": "531cf4f2-48ad-43bf-abb0-9f26292d72d5"
      },
      "source": [
        "np.percentile(windowed_rewards[-1000:], q=[5, 95])"
      ],
      "execution_count": 98,
      "outputs": [
        {
          "output_type": "execute_result",
          "data": {
            "text/plain": [
              "array([7.16, 8.08])"
            ]
          },
          "metadata": {
            "tags": []
          },
          "execution_count": 98
        }
      ]
    },
    {
      "cell_type": "markdown",
      "metadata": {
        "id": "B_PiXO5wkRb0"
      },
      "source": [
        "### First attempt to evalute policy"
      ]
    },
    {
      "cell_type": "code",
      "metadata": {
        "colab": {
          "base_uri": "https://localhost:8080/",
          "height": 317,
          "referenced_widgets": [
            "a17c4ff930fa453ba2c1435f0b8a89f3",
            "592322024454434cb98514524c72ea3a",
            "c7bab2d4332d412bbaeb3d74c23714c5",
            "f9ad4761b2664b499e0645998399563e",
            "79bf320434bc433c9ee126e105518407",
            "ac651eec0a5d42cfad8fcda384b78eef",
            "49fe095acee94e7483b5da8a13774776",
            "7c3b2b8ea5db4f34a2fd4b2a80127ab2"
          ]
        },
        "id": "hM_8osUfhvv4",
        "outputId": "78af1830-743c-4140-c94e-b37ba9b989d0"
      },
      "source": [
        "Q_trained = Q.copy()\n",
        "hyper_params[\"n_episodes\"] = 1000\n",
        "\n",
        "rewards = np.zeros(hyper_params[\"n_episodes\"])\n",
        "episodes = []\n",
        "\n",
        "illegal_action_detected = q_learning(Q_trained, rewards, episodes, hyper_params, training=False)\n",
        "\n",
        "windowed_rewards = np.convolve(rewards, np.ones(100), 'valid')\n",
        "windowed_rewards = windowed_rewards/100\n",
        "plt.plot(windowed_rewards)\n",
        "plt.show()\n"
      ],
      "execution_count": 126,
      "outputs": [
        {
          "output_type": "display_data",
          "data": {
            "application/vnd.jupyter.widget-view+json": {
              "model_id": "a17c4ff930fa453ba2c1435f0b8a89f3",
              "version_minor": 0,
              "version_major": 2
            },
            "text/plain": [
              "HBox(children=(FloatProgress(value=0.0, max=1000.0), HTML(value='')))"
            ]
          },
          "metadata": {
            "tags": []
          }
        },
        {
          "output_type": "stream",
          "text": [
            "\n"
          ],
          "name": "stdout"
        },
        {
          "output_type": "display_data",
          "data": {
            "image/png": "[encoded data removed]",
            "text/plain": [
              "<Figure size 432x288 with 1 Axes>"
            ]
          },
          "metadata": {
            "tags": [],
            "needs_background": "light"
          }
        }
      ]
    },
    {
      "cell_type": "code",
      "metadata": {
        "colab": {
          "base_uri": "https://localhost:8080/"
        },
        "id": "Yd4fhzqYjtVt",
        "outputId": "32140159-89f0-41f9-c83b-660753c44efb"
      },
      "source": [
        "print(np.percentile(windowed_rewards[-1000:], q=[5, 95]))\n",
        "print(illegal_action_detected)"
      ],
      "execution_count": 127,
      "outputs": [
        {
          "output_type": "stream",
          "text": [
            "[7.61 8.11]\n",
            "False\n"
          ],
          "name": "stdout"
        }
      ]
    },
    {
      "cell_type": "markdown",
      "metadata": {
        "id": "Q5hH3i02lNPd"
      },
      "source": [
        "### More hyper parameter tuning"
      ]
    },
    {
      "cell_type": "code",
      "metadata": {
        "colab": {
          "base_uri": "https://localhost:8080/",
          "height": 314,
          "referenced_widgets": [
            "23f51697ad304c4eac6be7f21b38d7d0",
            "9f3bd3b016c647b78a131360c3484ef8",
            "69e9b55eeeac45d394a82ebce113281f",
            "632603ab4f664ea891445e20dbc13ab2",
            "7c998df72f424bdc993f9b09c4becdcf",
            "6c92914013e14bc78f795873646f490e",
            "42e9fd72892a437a8bdb32680b48fc19",
            "054ad28ed899456c94c5b987f6a34c5e"
          ]
        },
        "id": "O-mlO52ZlQrt",
        "outputId": "73739132-05da-40c8-886a-61f6dcd377d0"
      },
      "source": [
        "Q = pd.DataFrame.from_dict({s:{a:0 for a in range(taxi.nA)} for s in range(taxi.nS)}, orient='index')\n",
        "\n",
        "hyper_params = {\"n_episodes\": 10000, \"init_epsilon\": 1, \"min_epsilon\": 0, \"epsilon_decay\": 0.9994, \"alpha\": 0.05, \"gamma\": 0.9}\n",
        "\n",
        "rewards = np.zeros(hyper_params[\"n_episodes\"])\n",
        "episodes = []\n",
        "\n",
        "q_learning(Q, rewards, episodes, hyper_params)\n",
        "\n",
        "windowed_rewards = np.convolve(rewards, np.ones(100), 'valid')\n",
        "windowed_rewards = windowed_rewards/100\n",
        "plt.plot(windowed_rewards)\n",
        "plt.show()"
      ],
      "execution_count": 130,
      "outputs": [
        {
          "output_type": "display_data",
          "data": {
            "application/vnd.jupyter.widget-view+json": {
              "model_id": "23f51697ad304c4eac6be7f21b38d7d0",
              "version_minor": 0,
              "version_major": 2
            },
            "text/plain": [
              "HBox(children=(FloatProgress(value=0.0, max=10000.0), HTML(value='')))"
            ]
          },
          "metadata": {
            "tags": []
          }
        },
        {
          "output_type": "stream",
          "text": [
            "\n"
          ],
          "name": "stdout"
        },
        {
          "output_type": "display_data",
          "data": {
            "image/png": "[encoded data removed]",
            "text/plain": [
              "<Figure size 432x288 with 1 Axes>"
            ]
          },
          "metadata": {
            "tags": [],
            "needs_background": "light"
          }
        }
      ]
    },
    {
      "cell_type": "code",
      "metadata": {
        "colab": {
          "base_uri": "https://localhost:8080/"
        },
        "id": "0uQGpEv9p3nV",
        "outputId": "45041ae4-eb9a-4252-9f5d-57be4fa987b3"
      },
      "source": [
        "print(np.percentile(windowed_rewards[-1000:], q=[5, 95]))\n"
      ],
      "execution_count": 131,
      "outputs": [
        {
          "output_type": "stream",
          "text": [
            "[7.28   8.1005]\n"
          ],
          "name": "stdout"
        }
      ]
    },
    {
      "cell_type": "markdown",
      "metadata": {
        "id": "m1Tt8y5T5-PZ"
      },
      "source": [
        "###Q4, Train an algorithm to achieve a 100-episode average reward with a 5th percentile of 7.2 or higher and a 95th percentile of 8.2 or higher on the last 1000 episodes.\n",
        "\n",
        "###Q5,The algorithm should be able to perform pick-ups and dropoffs with zero penalties over 1000 episodes.\n"
      ]
    },
    {
      "cell_type": "code",
      "metadata": {
        "colab": {
          "base_uri": "https://localhost:8080/",
          "height": 348,
          "referenced_widgets": [
            "8b421fad79434e4c9fc7b0a8891a6f52",
            "cc35d77568c440e0b7478e4e12825d36",
            "e5d601bc91cb4cb2a3b0f1b071eab6f2",
            "bcd7e89c5bca45349258773cb372a177",
            "aaea8048caed4607bb76b7773625c7da",
            "98fcb913a21142aa8bf25df2dbc3a099",
            "5f827c926c5a4693be91643051aeda69",
            "30890803aac44270a0577ed6c6755ae7"
          ]
        },
        "id": "cPlT1800p9MO",
        "outputId": "0dd7ac0c-0b20-42b7-c828-0c1436fe5595"
      },
      "source": [
        "Q_trained = Q.copy()\n",
        "hyper_params[\"n_episodes\"] = 1000\n",
        "\n",
        "rewards = np.zeros(hyper_params[\"n_episodes\"])\n",
        "episodes = []\n",
        "\n",
        "illegal_action_detected = q_learning(Q_trained, rewards, episodes, hyper_params, training=False)\n",
        "\n",
        "windowed_rewards = np.convolve(rewards, np.ones(100), 'valid')\n",
        "windowed_rewards = windowed_rewards/100\n",
        "plt.plot(windowed_rewards)\n",
        "plt.show()\n",
        "print(np.percentile(windowed_rewards[-1000:], q=[5, 95]))\n",
        "print(illegal_action_detected)"
      ],
      "execution_count": 135,
      "outputs": [
        {
          "output_type": "display_data",
          "data": {
            "application/vnd.jupyter.widget-view+json": {
              "model_id": "8b421fad79434e4c9fc7b0a8891a6f52",
              "version_minor": 0,
              "version_major": 2
            },
            "text/plain": [
              "HBox(children=(FloatProgress(value=0.0, max=1000.0), HTML(value='')))"
            ]
          },
          "metadata": {
            "tags": []
          }
        },
        {
          "output_type": "stream",
          "text": [
            "\n"
          ],
          "name": "stdout"
        },
        {
          "output_type": "display_data",
          "data": {
            "image/png": "[encoded data removed]",
            "text/plain": [
              "<Figure size 432x288 with 1 Axes>"
            ]
          },
          "metadata": {
            "tags": [],
            "needs_background": "light"
          }
        },
        {
          "output_type": "stream",
          "text": [
            "[7.53 8.22]\n",
            "False\n"
          ],
          "name": "stdout"
        }
      ]
    },
    {
      "cell_type": "markdown",
      "metadata": {
        "id": "_F4R9VIrazVe"
      },
      "source": [
        "###Q6, Document your solution including all hyper parameters and how those hyperparameters were selected.\n",
        "I start with the default hyper params used in foolsball:  \n",
        "`hyper_params = {\"n_episodes\": 5000, \"init_epsilon\": 1, \"min_epsilon\": 0.1, \"epsilon_decay\": 0.9995, \"alpha\": 0.01, \"gamma\": 0.9}`\n",
        "\n",
        "I looked at the plot of the windowed_rewards, it the rewards is steadily increasing for the 5000 episodes, but at the end, it acheived around -100~-200. This tells that we should either train longer, or make the learning quicker. \n",
        "\n",
        "In the interest of time, I decided to make the training quicker. I first tried to increase alpha to 0.05. After 5000 epsiodes, the last 1000 episodes has a 5th percentile of -0.43 and a 95th percentile of 2.9205. The plt of windowed_rewards appears to have plateaued. But this is just a visual observation. After all, the desired rewards is around ~10 which is miniscule on the plt as early episodes have rewards -700 ~ - 500.\n",
        "\n",
        "To see if the trainning has really converged, I decided to train it longer, for 10000 episodes. This time, we reached a 5th percentile of 0.6595 and a 95th percentile of 4.0905. This is still less than the desired, and not much of an improvement from the 5000 episodes. It appears our training has indeed plateaued and converged. We should tune some other hyperparameters. \n",
        "\n",
        "It could be that the min_epsilon is too high, such that the agent still takes random actions when we have obtained the optimum policy; thus, making the rewards lower than desired. So, I changed the min_epsilon to 0 (although it would never be reached since we use exponential decay), and tried again. The result is indeed better, now we are at 5th percentile of 7.16 and a 95th percentile of 8.08. This is very close to the target. The small difference could be just due to the extremely small but non-zero episolen. So I decided to evalute the trianed Q table, with pure greedy action selection.\n",
        "\n",
        "I tried to evaluate several times, most of the times the reward is at the desired target, but not always. This could suggest that with some of the combinations of the initial conditions (initial conditions are randomly selected), the policy does not handle optimally. This might be a result of insufficient exploitation, so I decided to make epsilon decay faster, setting epsilon_decay to 0.9994 and tried again. This gives a 5th percentile of 7.28 and a 95th percentile of 8.1005. This is a slight improvement, and could be just what we need to meet the target.\n",
        "\n",
        "Switching to pure greedy action selection, I evaluated for 1000 episodes again, and this time, the results are consistently meeting the target (ran the cell above this one for several times, and each time we exceed the target)."
      ]
    },
    {
      "cell_type": "code",
      "metadata": {
        "id": "oWSxTpL3qro8"
      },
      "source": [
        ""
      ],
      "execution_count": null,
      "outputs": []
    }
  ]
}